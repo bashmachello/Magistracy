{
  "nbformat": 4,
  "nbformat_minor": 0,
  "metadata": {
    "colab": {
      "provenance": []
    },
    "kernelspec": {
      "name": "python3",
      "display_name": "Python 3"
    },
    "language_info": {
      "name": "python"
    }
  },
  "cells": [
    {
      "cell_type": "markdown",
      "source": [
        "## 3 кейс\n",
        "\n",
        "**В этом кейсе вы будете рассчитывать:**\n",
        "* retention\n",
        "* rolling retention\n",
        "* lifetime\n",
        "* churn rate\n",
        "* mau\n",
        "* wau\n",
        "* dau"
      ],
      "metadata": {
        "id": "T_xBU6WvyPhY"
      }
    },
    {
      "cell_type": "markdown",
      "source": [
        "**Важно**\n",
        "\n",
        "Перед началом решения задачи выполните следующую ячейку - в ней скачиваются нужные файлы"
      ],
      "metadata": {
        "id": "U2D5zGSdzc92"
      }
    },
    {
      "cell_type": "code",
      "execution_count": 1,
      "metadata": {
        "id": "3eJFMuMpyCp-",
        "colab": {
          "base_uri": "https://localhost:8080/"
        },
        "outputId": "be5ac170-138e-4ac9-b061-57d0e4338c36"
      },
      "outputs": [
        {
          "output_type": "stream",
          "name": "stdout",
          "text": [
            "--2025-09-18 07:38:49--  https://gist.github.com/Vs8th/739269a03f2f4a7396d04d6739da3771/raw/registrations.csv\n",
            "Resolving gist.github.com (gist.github.com)... 140.82.116.4\n",
            "Connecting to gist.github.com (gist.github.com)|140.82.116.4|:443... connected.\n",
            "HTTP request sent, awaiting response... 301 Moved Permanently\n",
            "Location: https://gist.githubusercontent.com/Vs8th/739269a03f2f4a7396d04d6739da3771/raw/registrations.csv [following]\n",
            "--2025-09-18 07:38:49--  https://gist.githubusercontent.com/Vs8th/739269a03f2f4a7396d04d6739da3771/raw/registrations.csv\n",
            "Resolving gist.githubusercontent.com (gist.githubusercontent.com)... 185.199.108.133, 185.199.109.133, 185.199.110.133, ...\n",
            "Connecting to gist.githubusercontent.com (gist.githubusercontent.com)|185.199.108.133|:443... connected.\n",
            "HTTP request sent, awaiting response... 200 OK\n",
            "Length: 14918 (15K) [text/plain]\n",
            "Saving to: ‘registrations.csv’\n",
            "\n",
            "\rregistrations.csv     0%[                    ]       0  --.-KB/s               \rregistrations.csv   100%[===================>]  14.57K  --.-KB/s    in 0s      \n",
            "\n",
            "2025-09-18 07:38:49 (57.3 MB/s) - ‘registrations.csv’ saved [14918/14918]\n",
            "\n",
            "--2025-09-18 07:38:49--  https://gist.github.com/Vs8th/aacb80595d1d6aaa2e31eb735f8bc644/raw/entries.csv\n",
            "Resolving gist.github.com (gist.github.com)... 140.82.116.4\n",
            "Connecting to gist.github.com (gist.github.com)|140.82.116.4|:443... connected.\n",
            "HTTP request sent, awaiting response... 301 Moved Permanently\n",
            "Location: https://gist.githubusercontent.com/Vs8th/aacb80595d1d6aaa2e31eb735f8bc644/raw/entries.csv [following]\n",
            "--2025-09-18 07:38:49--  https://gist.githubusercontent.com/Vs8th/aacb80595d1d6aaa2e31eb735f8bc644/raw/entries.csv\n",
            "Resolving gist.githubusercontent.com (gist.githubusercontent.com)... 185.199.108.133, 185.199.109.133, 185.199.110.133, ...\n",
            "Connecting to gist.githubusercontent.com (gist.githubusercontent.com)|185.199.108.133|:443... connected.\n",
            "HTTP request sent, awaiting response... 200 OK\n",
            "Length: 308588 (301K) [text/plain]\n",
            "Saving to: ‘entries.csv’\n",
            "\n",
            "entries.csv         100%[===================>] 301.36K  --.-KB/s    in 0.03s   \n",
            "\n",
            "2025-09-18 07:38:49 (11.4 MB/s) - ‘entries.csv’ saved [308588/308588]\n",
            "\n",
            "--2025-09-18 07:38:49--  https://gist.github.com/Vs8th/0e827e9a608117345dd6585ab81e8c86/raw/metrics.txt\n",
            "Resolving gist.github.com (gist.github.com)... 140.82.116.4\n",
            "Connecting to gist.github.com (gist.github.com)|140.82.116.4|:443... connected.\n",
            "HTTP request sent, awaiting response... 301 Moved Permanently\n",
            "Location: https://gist.githubusercontent.com/Vs8th/0e827e9a608117345dd6585ab81e8c86/raw/metrics.txt [following]\n",
            "--2025-09-18 07:38:49--  https://gist.githubusercontent.com/Vs8th/0e827e9a608117345dd6585ab81e8c86/raw/metrics.txt\n",
            "Resolving gist.githubusercontent.com (gist.githubusercontent.com)... 185.199.108.133, 185.199.109.133, 185.199.110.133, ...\n",
            "Connecting to gist.githubusercontent.com (gist.githubusercontent.com)|185.199.108.133|:443... connected.\n",
            "HTTP request sent, awaiting response... 200 OK\n",
            "Length: 67 [text/plain]\n",
            "Saving to: ‘metrics.txt’\n",
            "\n",
            "metrics.txt         100%[===================>]      67  --.-KB/s    in 0s      \n",
            "\n",
            "2025-09-18 07:38:49 (812 KB/s) - ‘metrics.txt’ saved [67/67]\n",
            "\n"
          ]
        }
      ],
      "source": [
        "!wget https://gist.github.com/Vs8th/739269a03f2f4a7396d04d6739da3771/raw/registrations.csv\n",
        "\n",
        "!wget https://gist.github.com/Vs8th/aacb80595d1d6aaa2e31eb735f8bc644/raw/entries.csv\n",
        "\n",
        "!wget https://gist.github.com/Vs8th/0e827e9a608117345dd6585ab81e8c86/raw/metrics.txt"
      ]
    },
    {
      "cell_type": "markdown",
      "source": [
        "Файлами для работы являются `registrations.csv` и `entries.csv`. В них хранятся данные о регистрациях пользователей и входа на платформу соответственно."
      ],
      "metadata": {
        "id": "vnMFicli7Fa7"
      }
    },
    {
      "cell_type": "code",
      "source": [
        "import csv\n",
        "from datetime import datetime, timedelta\n",
        "\n",
        "def proccess_files(file1, file2):\n",
        "  all_data = {}\n",
        "  with open(file1, 'r') as reg_file:\n",
        "      reader = csv.reader(reg_file, delimiter=';')\n",
        "      next(reader)\n",
        "      for row in reader:\n",
        "          user_id = row[0]\n",
        "          registration_date = datetime.strptime(row[1], '%Y-%m-%d')\n",
        "          if user_id not in all_data:\n",
        "            all_data[user_id] = {\n",
        "                'user_id': user_id,\n",
        "                'reg': registration_date,\n",
        "                'entries': []\n",
        "            }\n",
        "\n",
        "  with open(file2, 'r') as entry_file:\n",
        "      reader = csv.reader(entry_file, delimiter=';')\n",
        "      next(reader)\n",
        "      for row in reader:\n",
        "          user_id = row[0]\n",
        "          all_data[user_id]['entries'].append(datetime.strptime(row[1], '%Y-%m-%d'))\n",
        "  return all_data\n",
        "\n"
      ],
      "metadata": {
        "id": "LHWHqCpU7jEY"
      },
      "execution_count": 2,
      "outputs": []
    },
    {
      "cell_type": "markdown",
      "source": [
        "### **Посчитайте Retention 15 дня (в процентах) для пользователей, зарегистрированных в январе**\n",
        "\n",
        "Cохраните результат в переменную `retention_15_day`\n",
        "\n",
        "**Примечание:** результат округлите до 5 знаков после запятой"
      ],
      "metadata": {
        "id": "s2g2hxfMzqLo"
      }
    },
    {
      "cell_type": "code",
      "source": [
        "\n",
        "all_data = proccess_files('registrations.csv', 'entries.csv')\n",
        "\n",
        "start_date = datetime.strptime('2021-01-01', '%Y-%m-%d')\n",
        "end_date = datetime.strptime('2021-01-31', '%Y-%m-%d')\n",
        "count_user = 0\n",
        "ret_user = 0\n",
        "\n",
        "for user_data in all_data.values():\n",
        "  ret_15_date = user_data.get('reg') + timedelta(days=15)\n",
        "  if start_date <= user_data.get('reg') <= end_date:\n",
        "    count_user += 1\n",
        "    if ret_15_date in user_data['entries']:\n",
        "      ret_user += 1\n",
        "\n",
        "retention_15_day = round(ret_user/count_user*100,5)"
      ],
      "metadata": {
        "id": "u5l9mm-vzpJ8"
      },
      "execution_count": 3,
      "outputs": []
    },
    {
      "cell_type": "code",
      "source": [
        "#@title ✏️ Проверка: чтобы проверить свое решение запустите код в этой ячейке\n",
        "# Открываем файл с правильными ответами\n",
        "with open('metrics.txt', 'r') as f:\n",
        "    answers = f.read().split('\\n')\n",
        "\n",
        "correct_answer = float(answers[0])\n",
        "\n",
        "try:\n",
        "    assert retention_15_day == correct_answer\n",
        "except AssertionError:\n",
        "    print('Ответы не совпадают')\n",
        "else:\n",
        "    print('Поздравляем, Вы справились!')"
      ],
      "metadata": {
        "id": "YGydKAis0Ae9",
        "colab": {
          "base_uri": "https://localhost:8080/"
        },
        "outputId": "07953c1f-1cdc-4c98-976f-c7668036e76c"
      },
      "execution_count": 4,
      "outputs": [
        {
          "output_type": "stream",
          "name": "stdout",
          "text": [
            "Поздравляем, Вы справились!\n"
          ]
        }
      ]
    },
    {
      "cell_type": "markdown",
      "source": [
        "### **Посчитайте Rolling-retention 30 дня (в процентах) для пользователей из той же когорты**\n",
        "\n",
        "Сохраните результат в переменную `rolling_retention`\n",
        "\n",
        "**Примечание:** результат округлите до 5 знаков после запятой"
      ],
      "metadata": {
        "id": "TbkdEVLI0Cor"
      }
    },
    {
      "cell_type": "code",
      "source": [
        "all_data = proccess_files('registrations.csv', 'entries.csv')\n",
        "\n",
        "start_date = datetime.strptime('2021-01-01', '%Y-%m-%d')\n",
        "end_date = datetime.strptime('2021-01-31', '%Y-%m-%d')\n",
        "count_user = 0\n",
        "ret_user = 0\n",
        "\n",
        "for user_data in all_data.values():\n",
        "  if start_date <= user_data.get('reg') <= end_date:\n",
        "    ret_30_date = (user_data.get('reg') + timedelta(days=30))\n",
        "    count_user += 1\n",
        "    for entry_date in user_data['entries']:\n",
        "      if entry_date >= ret_30_date:\n",
        "        ret_user +=1\n",
        "        break\n",
        "\n",
        "rolling_retention = round(ret_user/count_user*100, 5)"
      ],
      "metadata": {
        "id": "keCBmUDJ0Hho"
      },
      "execution_count": 5,
      "outputs": []
    },
    {
      "cell_type": "code",
      "source": [
        "#@title ✏️ Проверка: чтобы проверить свое решение запустите код в этой ячейке\n",
        "correct_answer = float(answers[1])\n",
        "\n",
        "try:\n",
        "    assert rolling_retention == correct_answer\n",
        "except AssertionError:\n",
        "    print('Ответы не совпадают')\n",
        "else:\n",
        "    print('Поздравляем, Вы справились!')"
      ],
      "metadata": {
        "id": "fTwUwQZ40JCl",
        "colab": {
          "base_uri": "https://localhost:8080/"
        },
        "outputId": "c80439f7-a47d-4f14-87b3-f31ff9520865"
      },
      "execution_count": 6,
      "outputs": [
        {
          "output_type": "stream",
          "name": "stdout",
          "text": [
            "Поздравляем, Вы справились!\n"
          ]
        }
      ]
    },
    {
      "cell_type": "markdown",
      "source": [
        "### **Посчитайте Lifetime по всем пользователям, посчитанный как интеграл от n-day retention**\n",
        "\n",
        "Сохраните результат в переменную `lifetime`\n",
        "\n",
        "**Примечание:** результат округлите до 5 знаков после запятой"
      ],
      "metadata": {
        "id": "wxkhEVmF0PAo"
      }
    },
    {
      "cell_type": "code",
      "source": [
        "from collections import defaultdict\n",
        "\n",
        "all_data = proccess_files('registrations.csv', 'entries.csv')\n",
        "\n",
        "users_by_day = defaultdict(set)\n",
        "total_users = len(all_data)\n",
        "\n",
        "for user_id, user_data in all_data.items():\n",
        "  for entry_date in user_data['entries']:\n",
        "    days_after_reg = (entry_date - user_data['reg']).days\n",
        "    users_by_day[days_after_reg].add(user_id)\n",
        "\n",
        "lifetime = 0\n",
        "for day in sorted(users_by_day.keys()):\n",
        "  lifetime += len(users_by_day[day])/total_users\n",
        "\n",
        "lifetime = round(lifetime,5)"
      ],
      "metadata": {
        "id": "KS17l5Ux0UD3"
      },
      "execution_count": 7,
      "outputs": []
    },
    {
      "cell_type": "code",
      "source": [
        "#@title ✏️ Проверка: чтобы проверить свое решение запустите код в этой ячейке\n",
        "correct_answer = float(answers[2])\n",
        "\n",
        "try:\n",
        "    assert lifetime == correct_answer\n",
        "except AssertionError:\n",
        "    print('Ответы не совпадают')\n",
        "else:\n",
        "    print('Поздравляем, Вы справились!')"
      ],
      "metadata": {
        "id": "k7s0V8hF0Vmx",
        "colab": {
          "base_uri": "https://localhost:8080/"
        },
        "outputId": "6a596f93-ee29-47bf-a87f-a19c1f5de1c1"
      },
      "execution_count": 8,
      "outputs": [
        {
          "output_type": "stream",
          "name": "stdout",
          "text": [
            "Поздравляем, Вы справились!\n"
          ]
        }
      ]
    },
    {
      "cell_type": "markdown",
      "source": [
        "### **Посчитайте Churn rate 29 дня (в долях), посчитанный по всем пользователям**\n",
        "\n",
        "Сохраните результат в переменную `churn_29`.  \n",
        "Если будете считать CR от Retention, ведите расчет от Rolling Retention, таким образом, мы получим всех, кто не заходил в 29 день и после. Ведя расчет от обычного Retention, наоборот - получим только CR в 29 день.\n"
      ],
      "metadata": {
        "id": "OrwoZ-wR0jJq"
      }
    },
    {
      "cell_type": "code",
      "source": [
        "all_data = proccess_files('registrations.csv', 'entries.csv')\n",
        "\n",
        "count_user = 0\n",
        "ret_user = 0\n",
        "\n",
        "for user_data in all_data.values():\n",
        "  ret_29_date = (user_data.get('reg') + timedelta(days=29))\n",
        "  count_user += 1\n",
        "  for entry_date in user_data['entries']:\n",
        "    if entry_date >= ret_29_date:\n",
        "      ret_user +=1\n",
        "      break\n",
        "\n",
        "churn_29 = round(1-(ret_user/count_user), 5)"
      ],
      "metadata": {
        "id": "hKN7vidq0mJ3"
      },
      "execution_count": 9,
      "outputs": []
    },
    {
      "cell_type": "code",
      "source": [
        "#@title ✏️ Проверка: чтобы проверить свое решение запустите код в этой ячейке\n",
        "correct_answer = float(answers[3])\n",
        "\n",
        "try:\n",
        "    assert churn_29 == correct_answer\n",
        "except AssertionError:\n",
        "    print('Ответы не совпадают')\n",
        "else:\n",
        "    print('Поздравляем, Вы справились!')"
      ],
      "metadata": {
        "id": "14KnR1gD0ou9",
        "colab": {
          "base_uri": "https://localhost:8080/"
        },
        "outputId": "aad22537-8db5-458e-9d35-4eec09d4173e"
      },
      "execution_count": 10,
      "outputs": [
        {
          "output_type": "stream",
          "name": "stdout",
          "text": [
            "Поздравляем, Вы справились!\n"
          ]
        }
      ]
    },
    {
      "cell_type": "markdown",
      "source": [
        "### **Посчитайте Mau, Wau, Dau за последний месяц/неделю/день записей**\n",
        "\n",
        "Сохраните результат в переменные `dec_mau`, `dec_wau`, `dec_dau` соответственно\n",
        "\n",
        "**Примечание:** последний месяц записей - декабрь. Поэтому `mau` рассчитываем для декабря (2021 года), для `wau` берем последнюю неделю - с 25 по 31 декабря, и для `dau` соответственно последний день - 31 декабря."
      ],
      "metadata": {
        "id": "QuO3ZwRI5mdH"
      }
    },
    {
      "cell_type": "code",
      "source": [
        "all_data = proccess_files('registrations.csv', 'entries.csv')\n",
        "\n",
        "data_entries = [max(v['entries']) for v in all_data.values()]\n",
        "max_date = max(data_entries)\n",
        "month_delta = max_date - timedelta(days=30)\n",
        "unique_users = set()\n",
        "\n",
        "for user_data in all_data.values():\n",
        "  for entry_date in user_data['entries']:\n",
        "    if month_delta <= entry_date <= max_date:\n",
        "      unique_users.add(user_data['user_id'])\n",
        "dec_mau = len(unique_users)\n"
      ],
      "metadata": {
        "id": "HxGWkaSp5kpo"
      },
      "execution_count": 11,
      "outputs": []
    },
    {
      "cell_type": "code",
      "source": [
        "#@title ✏️ Проверка: чтобы проверить свое решение запустите код в этой ячейке\n",
        "correct_answer = float(answers[4])\n",
        "\n",
        "try:\n",
        "    assert dec_mau == correct_answer\n",
        "except AssertionError:\n",
        "    print('Ответы не совпадают')\n",
        "else:\n",
        "    print('Поздравляем, Вы справились!')"
      ],
      "metadata": {
        "id": "dpK4clbe5xiH",
        "colab": {
          "base_uri": "https://localhost:8080/"
        },
        "outputId": "8be0dede-c45e-4ec0-db97-0d0d9207391e"
      },
      "execution_count": 12,
      "outputs": [
        {
          "output_type": "stream",
          "name": "stdout",
          "text": [
            "Поздравляем, Вы справились!\n"
          ]
        }
      ]
    },
    {
      "cell_type": "code",
      "source": [
        "all_data = proccess_files('registrations.csv', 'entries.csv')\n",
        "\n",
        "data_entries = [max(v['entries']) for v in all_data.values()]\n",
        "max_date = max(data_entries)\n",
        "week_delta = max_date - timedelta(days=6)\n",
        "unique_users = set()\n",
        "\n",
        "for user_data in all_data.values():\n",
        "  for entry_date in user_data['entries']:\n",
        "    if week_delta <= entry_date <= max_date:\n",
        "      unique_users.add(user_data['user_id'])\n",
        "\n",
        "dec_wau = len(unique_users)"
      ],
      "metadata": {
        "id": "urEWcCuk522y"
      },
      "execution_count": 13,
      "outputs": []
    },
    {
      "cell_type": "code",
      "source": [
        "#@title ✏️ Проверка: чтобы проверить свое решение запустите код в этой ячейке\n",
        "correct_answer = float(answers[5])\n",
        "\n",
        "try:\n",
        "    assert dec_wau == correct_answer\n",
        "except AssertionError:\n",
        "    print('Ответы не совпадают')\n",
        "else:\n",
        "    print('Поздравляем, Вы справились!')"
      ],
      "metadata": {
        "id": "xziXbjnJ549b",
        "colab": {
          "base_uri": "https://localhost:8080/"
        },
        "outputId": "9ff3291c-885d-4575-9ce8-89627111ca56"
      },
      "execution_count": 14,
      "outputs": [
        {
          "output_type": "stream",
          "name": "stdout",
          "text": [
            "Поздравляем, Вы справились!\n"
          ]
        }
      ]
    },
    {
      "cell_type": "code",
      "source": [
        "all_data = proccess_files('registrations.csv', 'entries.csv')\n",
        "\n",
        "data_entries = [max(v['entries']) for v in all_data.values()]\n",
        "max_date = max(data_entries)\n",
        "unique_users = set()\n",
        "\n",
        "for user_data in all_data.values():\n",
        "  for entry_date in user_data['entries']:\n",
        "    if entry_date == max_date:\n",
        "      unique_users.add(user_data['user_id'])\n",
        "\n",
        "dec_dau = len(unique_users)"
      ],
      "metadata": {
        "id": "hv7Nz3TN59Ds"
      },
      "execution_count": 15,
      "outputs": []
    },
    {
      "cell_type": "code",
      "source": [
        "#@title ✏️ Проверка: чтобы проверить свое решение запустите код в этой ячейке\n",
        "correct_answer = float(answers[6])\n",
        "\n",
        "try:\n",
        "    assert dec_dau == correct_answer\n",
        "except AssertionError:\n",
        "    print('Ответы не совпадают')\n",
        "else:\n",
        "    print('Поздравляем, Вы справились!')"
      ],
      "metadata": {
        "id": "1csOLxor5_ox",
        "colab": {
          "base_uri": "https://localhost:8080/"
        },
        "outputId": "75163578-a7bb-467a-fcc8-c12a89185d3a"
      },
      "execution_count": 16,
      "outputs": [
        {
          "output_type": "stream",
          "name": "stdout",
          "text": [
            "Поздравляем, Вы справились!\n"
          ]
        }
      ]
    },
    {
      "cell_type": "markdown",
      "source": [
        "### **Посчитайте Mau, Wau, Dau усредненные**\n",
        "\n",
        "Сохраните результат в переменные `avg_mau`, `avg_wau`, `avg_dau` соответственно\n",
        "\n",
        "**Примечание:** результаты округлите до 5 знаков после запятой"
      ],
      "metadata": {
        "id": "gzElxXgv6Dyr"
      }
    },
    {
      "cell_type": "code",
      "source": [
        "all_data = proccess_files('registrations.csv', 'entries.csv')\n",
        "\n",
        "users_by_month = defaultdict(set)\n",
        "\n",
        "for user_id, user_data in all_data.items():\n",
        "  for entry_date in user_data['entries']:\n",
        "    if entry_date.month in list(range(1, 13)):\n",
        "      users_by_month[entry_date.month].add(user_id)\n",
        "\n",
        "avg_mau = 0\n",
        "for month in sorted(users_by_month.keys()):\n",
        "  avg_mau += len(users_by_month[month])/12\n",
        "\n",
        "avg_mau = round(avg_mau, 5)"
      ],
      "metadata": {
        "id": "mUDYPPqx6RPr"
      },
      "execution_count": 17,
      "outputs": []
    },
    {
      "cell_type": "code",
      "source": [
        "#@title ✏️ Проверка: чтобы проверить свое решение запустите код в этой ячейке\n",
        "correct_answer = float(answers[7])\n",
        "\n",
        "try:\n",
        "    assert avg_mau == correct_answer\n",
        "except AssertionError:\n",
        "    print('Ответы не совпадают')\n",
        "else:\n",
        "    print('Поздравляем, Вы справились!')"
      ],
      "metadata": {
        "id": "CfikZaBu6V9_",
        "colab": {
          "base_uri": "https://localhost:8080/"
        },
        "outputId": "c3cea3ed-12c1-4088-bb09-d5df0a5d0169"
      },
      "execution_count": 18,
      "outputs": [
        {
          "output_type": "stream",
          "name": "stdout",
          "text": [
            "Поздравляем, Вы справились!\n"
          ]
        }
      ]
    },
    {
      "cell_type": "code",
      "source": [
        "all_data = proccess_files('registrations.csv', 'entries.csv')\n",
        "\n",
        "users_by_week = defaultdict(set)\n",
        "\n",
        "for user_id, user_data in all_data.items():\n",
        "  for entry_date in user_data['entries']:\n",
        "    year, week, _ = entry_date.isocalendar()\n",
        "    users_by_week[(year, week)].add(user_id)\n",
        "\n",
        "week_users = [len(users) for users in users_by_week.values()]\n",
        "avg_wau = round(sum(week_users)/len(week_users), 5)\n"
      ],
      "metadata": {
        "id": "WydV9g9C6x7O"
      },
      "execution_count": 19,
      "outputs": []
    },
    {
      "cell_type": "code",
      "source": [
        "#@title ✏️ Проверка: чтобы проверить свое решение запустите код в этой ячейке\n",
        "correct_answer = float(answers[8])\n",
        "\n",
        "try:\n",
        "    assert avg_wau == correct_answer\n",
        "except AssertionError:\n",
        "    print('Ответы не совпадают')\n",
        "else:\n",
        "    print('Поздравляем, Вы справились!')"
      ],
      "metadata": {
        "id": "qbZgzDpV6zUl",
        "colab": {
          "base_uri": "https://localhost:8080/"
        },
        "outputId": "bcc756cc-eced-4043-e938-79f710041dc0"
      },
      "execution_count": 20,
      "outputs": [
        {
          "output_type": "stream",
          "name": "stdout",
          "text": [
            "Поздравляем, Вы справились!\n"
          ]
        }
      ]
    },
    {
      "cell_type": "code",
      "source": [
        "all_data = proccess_files('registrations.csv', 'entries.csv')\n",
        "\n",
        "users_by_days = defaultdict(set)\n",
        "\n",
        "for user_id, user_data in all_data.items():\n",
        "  for entry_date in user_data['entries']:\n",
        "    year, month, day = entry_date.isocalendar()\n",
        "    users_by_days[(year, month, day)].add(user_id)\n",
        "\n",
        "day_users = [len(users) for users in users_by_days.values()]\n",
        "avg_dau = round(sum(day_users)/len(day_users), 5)"
      ],
      "metadata": {
        "id": "NgqOR38d64_T"
      },
      "execution_count": 21,
      "outputs": []
    },
    {
      "cell_type": "code",
      "source": [
        "#@title ✏️ Проверка: чтобы проверить свое решение запустите код в этой ячейке\n",
        "correct_answer = float(answers[9])\n",
        "\n",
        "try:\n",
        "    assert avg_dau == correct_answer\n",
        "except AssertionError:\n",
        "    print('Ответы не совпадают')\n",
        "else:\n",
        "    print('Поздравляем, Вы справились!')"
      ],
      "metadata": {
        "id": "TbmDR4NP66qm",
        "colab": {
          "base_uri": "https://localhost:8080/"
        },
        "outputId": "c06e6787-58c0-4d7d-d990-6e42dc239ab8"
      },
      "execution_count": 22,
      "outputs": [
        {
          "output_type": "stream",
          "name": "stdout",
          "text": [
            "Поздравляем, Вы справились!\n"
          ]
        }
      ]
    }
  ]
}